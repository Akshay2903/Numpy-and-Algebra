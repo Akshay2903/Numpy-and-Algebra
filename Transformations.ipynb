{
  "nbformat": 4,
  "nbformat_minor": 0,
  "metadata": {
    "colab": {
      "name": "Transformations.ipynb",
      "version": "0.3.2",
      "provenance": [],
      "include_colab_link": true
    },
    "kernelspec": {
      "name": "python3",
      "display_name": "Python 3"
    }
  },
  "cells": [
    {
      "cell_type": "markdown",
      "metadata": {
        "id": "view-in-github",
        "colab_type": "text"
      },
      "source": [
        "<a href=\"https://colab.research.google.com/github/Akshay2903/Numpy-and-Linear-Algebra/blob/master/Transformations.ipynb\" target=\"_parent\"><img src=\"https://colab.research.google.com/assets/colab-badge.svg\" alt=\"Open In Colab\"/></a>"
      ]
    },
    {
      "cell_type": "markdown",
      "metadata": {
        "id": "OQ4YLszi2B4J",
        "colab_type": "text"
      },
      "source": [
        "# Transformation"
      ]
    },
    {
      "cell_type": "markdown",
      "metadata": {
        "id": "33TPtVIq2GdQ",
        "colab_type": "text"
      },
      "source": [
        "## Linear transformation"
      ]
    },
    {
      "cell_type": "code",
      "metadata": {
        "id": "sjUByRLZ2EZ3",
        "colab_type": "code",
        "colab": {
          "base_uri": "https://localhost:8080/",
          "height": 34
        },
        "outputId": "17c5dabc-021e-4a78-cd33-865351a4577c"
      },
      "source": [
        "import numpy as np\n",
        "\n",
        "v = np.array([1,2])\n",
        "A = np.array([[2,3],\n",
        "              [5,2]])\n",
        "\n",
        "t = A@v\n",
        "print (t)"
      ],
      "execution_count": 1,
      "outputs": [
        {
          "output_type": "stream",
          "text": [
            "[8 9]\n"
          ],
          "name": "stdout"
        }
      ]
    },
    {
      "cell_type": "code",
      "metadata": {
        "id": "GjVH-5Vx2Mj4",
        "colab_type": "code",
        "colab": {
          "base_uri": "https://localhost:8080/",
          "height": 34
        },
        "outputId": "08bc7692-fd4a-4af6-de81-6cc8d8e92516"
      },
      "source": [
        "import numpy as np\n",
        "v = np.array([1,2])\n",
        "A = np.array([[2,3],\n",
        "              [5,2],\n",
        "              [1,1]])\n",
        "\n",
        "t = A@v\n",
        "print (t)"
      ],
      "execution_count": 2,
      "outputs": [
        {
          "output_type": "stream",
          "text": [
            "[8 9 3]\n"
          ],
          "name": "stdout"
        }
      ]
    },
    {
      "cell_type": "code",
      "metadata": {
        "id": "TAk1UELr2UxF",
        "colab_type": "code",
        "colab": {
          "base_uri": "https://localhost:8080/",
          "height": 34
        },
        "outputId": "7ff4b7bb-1883-463d-9147-0ba1cd571a1f"
      },
      "source": [
        "import numpy as np\n",
        "v = np.array([1,2])\n",
        "A = np.array([[1,2],\n",
        "              [2,1]])\n",
        "\n",
        "t = A@v\n",
        "print (t)"
      ],
      "execution_count": 3,
      "outputs": [
        {
          "output_type": "stream",
          "text": [
            "[5 4]\n"
          ],
          "name": "stdout"
        }
      ]
    },
    {
      "cell_type": "markdown",
      "metadata": {
        "id": "vtXxkr8A5qS-",
        "colab_type": "text"
      },
      "source": [
        "## Transformations of Magnitude and Amplitude"
      ]
    },
    {
      "cell_type": "code",
      "metadata": {
        "id": "sA6Nbvj02YAU",
        "colab_type": "code",
        "colab": {
          "base_uri": "https://localhost:8080/",
          "height": 306
        },
        "outputId": "919730cd-7350-4e99-954c-76b00dd9b2b8"
      },
      "source": [
        "#only magnitude change, direction is not change\n",
        "import numpy as np\n",
        "import matplotlib.pyplot as plt\n",
        "%matplotlib inline\n",
        "\n",
        "v = np.array([1,0])\n",
        "A = np.array([[2,0],\n",
        "              [0,2]])\n",
        "\n",
        "t = A@v\n",
        "print (t)\n",
        "\n",
        "# Plot v and t\n",
        "vecs = np.array([t,v])\n",
        "origin = [0], [0]\n",
        "plt.axis('equal')\n",
        "plt.grid()\n",
        "plt.ticklabel_format(style='sci', axis='both', scilimits=(0,0))\n",
        "plt.quiver(*origin, vecs[:,0], vecs[:,1], color=['blue', 'orange'], scale=10)\n",
        "plt.show()"
      ],
      "execution_count": 4,
      "outputs": [
        {
          "output_type": "stream",
          "text": [
            "[2 0]\n"
          ],
          "name": "stdout"
        },
        {
          "output_type": "display_data",
          "data": {
            "image/png": "[encoded data removed]",
            "text/plain": [
              "<Figure size 432x288 with 1 Axes>"
            ]
          },
          "metadata": {
            "tags": []
          }
        }
      ]
    },
    {
      "cell_type": "code",
      "metadata": {
        "id": "sSxdvXHB5yMj",
        "colab_type": "code",
        "colab": {
          "base_uri": "https://localhost:8080/",
          "height": 306
        },
        "outputId": "c82f739d-d4b8-4665-b63c-863f0f8e05db"
      },
      "source": [
        "# direction is change and magnitude is not change\n",
        "import numpy as np\n",
        "import matplotlib.pyplot as plt\n",
        "%matplotlib inline\n",
        "\n",
        "v = np.array([1,0])\n",
        "A = np.array([[0,-1],\n",
        "              [1,0]])\n",
        "\n",
        "t = A@v\n",
        "print (t)\n",
        "\n",
        "# Plot v and t\n",
        "vecs = np.array([v,t])\n",
        "origin = [0], [0]\n",
        "plt.axis('equal')\n",
        "plt.grid()\n",
        "plt.ticklabel_format(style='sci', axis='both', scilimits=(0,0))\n",
        "plt.quiver(*origin, vecs[:,0], vecs[:,1], color=['orange', 'blue'], scale=10)\n",
        "plt.show()"
      ],
      "execution_count": 8,
      "outputs": [
        {
          "output_type": "stream",
          "text": [
            "[0 1]\n"
          ],
          "name": "stdout"
        },
        {
          "output_type": "display_data",
          "data": {
            "image/png": "[encoded data removed]",
            "text/plain": [
              "<Figure size 432x288 with 1 Axes>"
            ]
          },
          "metadata": {
            "tags": []
          }
        }
      ]
    },
    {
      "cell_type": "code",
      "metadata": {
        "id": "Usm7D9QN54Fr",
        "colab_type": "code",
        "colab": {
          "base_uri": "https://localhost:8080/",
          "height": 306
        },
        "outputId": "feaf4c27-c255-4503-d2b0-5d846511e5fd"
      },
      "source": [
        "# both direction and magnitude changes\n",
        "import numpy as np\n",
        "import matplotlib.pyplot as plt\n",
        "%matplotlib inline\n",
        "\n",
        "v = np.array([1,0])\n",
        "A = np.array([[2,1],\n",
        "              [1,2]])\n",
        "\n",
        "t = A@v\n",
        "print (t)\n",
        "\n",
        "# Plot v and t\n",
        "vecs = np.array([v,t])\n",
        "origin = [0], [0]\n",
        "plt.axis('equal')\n",
        "plt.grid()\n",
        "plt.ticklabel_format(style='sci', axis='both', scilimits=(0,0))\n",
        "plt.quiver(*origin, vecs[:,0], vecs[:,1], color=['orange', 'blue'], scale=10)\n",
        "plt.show()"
      ],
      "execution_count": 9,
      "outputs": [
        {
          "output_type": "stream",
          "text": [
            "[2 1]\n"
          ],
          "name": "stdout"
        },
        {
          "output_type": "display_data",
          "data": {
            "image/png": "[encoded data removed]",
            "text/plain": [
              "<Figure size 432x288 with 1 Axes>"
            ]
          },
          "metadata": {
            "tags": []
          }
        }
      ]
    },
    {
      "cell_type": "markdown",
      "metadata": {
        "id": "S3wUS_uZ-xsF",
        "colab_type": "text"
      },
      "source": [
        "## Affine transformation"
      ]
    },
    {
      "cell_type": "code",
      "metadata": {
        "id": "QWfgiZxh58er",
        "colab_type": "code",
        "colab": {
          "base_uri": "https://localhost:8080/",
          "height": 306
        },
        "outputId": "42775158-b958-4463-eb34-9750f190b834"
      },
      "source": [
        "import numpy as np\n",
        "import matplotlib.pyplot as plt\n",
        "%matplotlib inline\n",
        "\n",
        "v = np.array([1,1])\n",
        "A = np.array([[5,2],\n",
        "              [3,1]])\n",
        "b = np.array([-2,-6])\n",
        "\n",
        "t = A@v + b\n",
        "print (t)\n",
        "\n",
        "# Plot v and t\n",
        "vecs = np.array([v,t])\n",
        "origin = [0], [0]\n",
        "plt.axis('equal')\n",
        "plt.grid()\n",
        "plt.ticklabel_format(style='sci', axis='both', scilimits=(0,0))\n",
        "plt.quiver(*origin, vecs[:,0], vecs[:,1], color=['orange', 'blue'], scale=15)\n",
        "plt.show()"
      ],
      "execution_count": 7,
      "outputs": [
        {
          "output_type": "stream",
          "text": [
            "[ 5 -2]\n"
          ],
          "name": "stdout"
        },
        {
          "output_type": "display_data",
          "data": {
            "image/png": "[encoded data removed]",
            "text/plain": [
              "<Figure size 432x288 with 1 Axes>"
            ]
          },
          "metadata": {
            "tags": []
          }
        }
      ]
    },
    {
      "cell_type": "code",
      "metadata": {
        "id": "zFcbK6ky-3VG",
        "colab_type": "code",
        "colab": {}
      },
      "source": [
        ""
      ],
      "execution_count": 0,
      "outputs": []
    }
  ]
}