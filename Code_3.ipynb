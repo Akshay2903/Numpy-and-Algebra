{
  "nbformat": 4,
  "nbformat_minor": 0,
  "metadata": {
    "colab": {
      "name": "Code 3.ipynb",
      "version": "0.3.2",
      "provenance": [],
      "include_colab_link": true
    },
    "kernelspec": {
      "name": "python3",
      "display_name": "Python 3"
    }
  },
  "cells": [
    {
      "cell_type": "markdown",
      "metadata": {
        "id": "view-in-github",
        "colab_type": "text"
      },
      "source": [
        "<a href=\"https://colab.research.google.com/github/Akshay2903/Numpy-and-Linear-Algebra/blob/master/Code_3.ipynb\" target=\"_parent\"><img src=\"https://colab.research.google.com/assets/colab-badge.svg\" alt=\"Open In Colab\"/></a>"
      ]
    },
    {
      "cell_type": "code",
      "metadata": {
        "id": "YdtQw91lfe3p",
        "colab_type": "code",
        "colab": {
          "base_uri": "https://localhost:8080/",
          "height": 70
        },
        "outputId": "6df75dea-1f3c-4369-ec53-6bfed5aa0a69"
      },
      "source": [
        "import numpy as np\n",
        "import matplotlib.pyplot as plt\n",
        "%matplotlib inline\n",
        "A = np.array([[2,0],\n",
        "              [0,2]])\n",
        "eVals, eVecs = np.linalg.eig(A)\n",
        "print(eVals)\n",
        "print(eVecs)"
      ],
      "execution_count": 5,
      "outputs": [
        {
          "output_type": "stream",
          "text": [
            "[2. 2.]\n",
            "[[1. 0.]\n",
            " [0. 1.]]\n"
          ],
          "name": "stdout"
        }
      ]
    },
    {
      "cell_type": "code",
      "metadata": {
        "id": "H1K-k69EgInW",
        "colab_type": "code",
        "colab": {
          "base_uri": "https://localhost:8080/",
          "height": 792
        },
        "outputId": "d250f8dc-0acf-4b22-e86d-7f9a8ff36920"
      },
      "source": [
        "vec1 = eVecs[:,0]\n",
        "lam1 = eVals[0]\n",
        "\n",
        "print('Matrix A:')\n",
        "print(A)\n",
        "print('-------')\n",
        "\n",
        "print('lam1: ' + str(lam1))\n",
        "print ('v1: ' + str(vec1))\n",
        "print ('Av1: ' + str(A@vec1))\n",
        "print ('lam1 x v1: ' + str(lam1*vec1))\n",
        "\n",
        "print('-------')\n",
        "\n",
        "vec2 = eVecs[:,1]\n",
        "lam2 = eVals[1]\n",
        "\n",
        "print('lam2: ' + str(lam2))\n",
        "print ('v2: ' + str(vec2))\n",
        "print ('Av2: ' + str(A@vec2))\n",
        "print ('lam2 x v2: ' + str(lam2*vec2))\n",
        "\n",
        "\n",
        "# Plot the resulting vectors\n",
        "t1 = lam1*vec1\n",
        "t2 = lam2*vec2\n",
        "\n",
        "fig = plt.figure()\n",
        "a=fig.add_subplot(1,1,1)\n",
        "# Plot v and t1\n",
        "vecs = np.array([t1,vec1])\n",
        "origin = [0], [0]\n",
        "plt.axis('equal')\n",
        "plt.grid()\n",
        "plt.ticklabel_format(style='sci', axis='both', scilimits=(0,0))\n",
        "plt.quiver(*origin, vecs[:,0], vecs[:,1], color=['blue', 'orange'], scale=10)\n",
        "plt.show()\n",
        "a=fig.add_subplot(1,2,1)\n",
        "# Plot v and t2\n",
        "vecs = np.array([t2,vec2])\n",
        "origin = [0], [0]\n",
        "plt.axis('equal')\n",
        "plt.grid()\n",
        "plt.ticklabel_format(style='sci', axis='both', scilimits=(0,0))\n",
        "plt.quiver(*origin, vecs[:,0], vecs[:,1], color=['blue', 'orange'], scale=10)\n",
        "plt.show()"
      ],
      "execution_count": 6,
      "outputs": [
        {
          "output_type": "stream",
          "text": [
            "Matrix A:\n",
            "[[2 0]\n",
            " [0 2]]\n",
            "-------\n",
            "lam1: 2.0\n",
            "v1: [1. 0.]\n",
            "Av1: [2. 0.]\n",
            "lam1 x v1: [2. 0.]\n",
            "-------\n",
            "lam2: 2.0\n",
            "v2: [0. 1.]\n",
            "Av2: [0. 2.]\n",
            "lam2 x v2: [0. 2.]\n"
          ],
          "name": "stdout"
        },
        {
          "output_type": "display_data",
          "data": {
            "image/png": "[encoded data removed]",
            "text/plain": [
              "<Figure size 432x288 with 1 Axes>"
            ]
          },
          "metadata": {
            "tags": []
          }
        },
        {
          "output_type": "display_data",
          "data": {
            "image/png": "[encoded data removed]",
            "text/plain": [
              "<Figure size 432x288 with 1 Axes>"
            ]
          },
          "metadata": {
            "tags": []
          }
        }
      ]
    },
    {
      "cell_type": "code",
      "metadata": {
        "id": "BzhevOwWgPSQ",
        "colab_type": "code",
        "colab": {}
      },
      "source": [
        ""
      ],
      "execution_count": 0,
      "outputs": []
    }
  ]
}