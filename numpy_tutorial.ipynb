{
  "nbformat": 4,
  "nbformat_minor": 0,
  "metadata": {
    "kernelspec": {
      "name": "python3",
      "display_name": "Python 3"
    },
    "language_info": {
      "codemirror_mode": {
        "name": "ipython",
        "version": 3
      },
      "file_extension": ".py",
      "mimetype": "text/x-python",
      "name": "python",
      "nbconvert_exporter": "python",
      "pygments_lexer": "ipython3",
      "version": "3.6.5"
    },
    "colab": {
      "name": "numpy_tutorial.ipynb",
      "version": "0.3.2",
      "provenance": [],
      "include_colab_link": true
    },
    "accelerator": "GPU"
  },
  "cells": [
    {
      "cell_type": "markdown",
      "metadata": {
        "id": "view-in-github",
        "colab_type": "text"
      },
      "source": [
        "<a href=\"https://colab.research.google.com/github/Akshay2903/Numpy-and-Linear-Algebra/blob/master/numpy_tutorial.ipynb\" target=\"_parent\"><img src=\"https://colab.research.google.com/assets/colab-badge.svg\" alt=\"Open In Colab\"/></a>"
      ]
    },
    {
      "cell_type": "markdown",
      "metadata": {
        "id": "5b0T_U9d4cAi",
        "colab_type": "text"
      },
      "source": [
        "# Numpy Basics \n",
        "\n"
      ]
    },
    {
      "cell_type": "code",
      "metadata": {
        "id": "1Wa_Hdda1axS",
        "colab_type": "code",
        "colab": {}
      },
      "source": [
        "import numpy as np"
      ],
      "execution_count": 0,
      "outputs": []
    },
    {
      "cell_type": "code",
      "metadata": {
        "id": "umAVs7qC1axY",
        "colab_type": "code",
        "colab": {
          "base_uri": "https://localhost:8080/",
          "height": 34
        },
        "outputId": "cc9da4ae-e9fd-445c-de91-753198099976"
      },
      "source": [
        "#create and print an array\n",
        "a = np.array([1,2,3])\n",
        "print(a)"
      ],
      "execution_count": 2,
      "outputs": [
        {
          "output_type": "stream",
          "text": [
            "[1 2 3]\n"
          ],
          "name": "stdout"
        }
      ]
    },
    {
      "cell_type": "code",
      "metadata": {
        "id": "j7A91Snh1axk",
        "colab_type": "code",
        "colab": {
          "base_uri": "https://localhost:8080/",
          "height": 51
        },
        "outputId": "504706d3-b97c-4d44-eb15-584790c28c9c"
      },
      "source": [
        "#create an 2-D array and print it\n",
        "b = np.array([(1,2,3),(4,5,6)])\n",
        "print(b)"
      ],
      "execution_count": 3,
      "outputs": [
        {
          "output_type": "stream",
          "text": [
            "[[1 2 3]\n",
            " [4 5 6]]\n"
          ],
          "name": "stdout"
        }
      ]
    },
    {
      "cell_type": "code",
      "metadata": {
        "id": "br3LgSAS1axt",
        "colab_type": "code",
        "colab": {}
      },
      "source": [
        "import time\n",
        "import sys"
      ],
      "execution_count": 0,
      "outputs": []
    },
    {
      "cell_type": "code",
      "metadata": {
        "id": "F707tqYx1axy",
        "colab_type": "code",
        "colab": {
          "base_uri": "https://localhost:8080/",
          "height": 51
        },
        "outputId": "4d42feef-92e6-40d2-a3af-d64dd6f7a908"
      },
      "source": [
        "#compare the list and numpy array\n",
        "\n",
        "s=range(1000)\n",
        "print(sys.getsizeof(5)*len(s))\n",
        "\n",
        "D = np.arange(1000)\n",
        "print(D.size*D.itemsize)\n"
      ],
      "execution_count": 5,
      "outputs": [
        {
          "output_type": "stream",
          "text": [
            "28000\n",
            "8000\n"
          ],
          "name": "stdout"
        }
      ]
    },
    {
      "cell_type": "code",
      "metadata": {
        "id": "2Hy6N5JV1ax9",
        "colab_type": "code",
        "colab": {
          "base_uri": "https://localhost:8080/",
          "height": 51
        },
        "outputId": "ba373a53-75f9-4492-d343-955536ecccd7"
      },
      "source": [
        "SIZE = 1000\n",
        "\n",
        "L1 = range(SIZE)\n",
        "L2 = range(SIZE)\n",
        "\n",
        "A1 = np.arange(SIZE)\n",
        "A2 = np.arange(SIZE)\n",
        "\n",
        "start = time.time()\n",
        "\n",
        "result = [(x,y) for x,y in zip(L1,L2)]\n",
        "\n",
        "print((time.time()-start)*1000)\n",
        "\n",
        "start = time.time()\n",
        "\n",
        "result =A1+A2\n",
        "\n",
        "print((time.time()-start)*1000)"
      ],
      "execution_count": 6,
      "outputs": [
        {
          "output_type": "stream",
          "text": [
            "0.4589557647705078\n",
            "0.13685226440429688\n"
          ],
          "name": "stdout"
        }
      ]
    },
    {
      "cell_type": "code",
      "metadata": {
        "id": "eJwS6GCR1ayD",
        "colab_type": "code",
        "colab": {
          "base_uri": "https://localhost:8080/",
          "height": 51
        },
        "outputId": "caa74656-035b-44b0-98c7-c3b732ed3c68"
      },
      "source": [
        "# list take more time than numpy array in execution\n",
        "\n",
        "# comparison the execution time of list and numpy array\n",
        "SIZE = 1000000\n",
        "\n",
        "L1 = range(SIZE)\n",
        "L2 = range(SIZE)\n",
        "\n",
        "A1 = np.arange(SIZE)\n",
        "A2 = np.arange(SIZE)\n",
        "\n",
        "start = time.time()\n",
        "\n",
        "result = [(x,y) for x,y in zip(L1,L2)]\n",
        "\n",
        "print((time.time()-start)*1000)\n",
        "\n",
        "start = time.time()\n",
        "\n",
        "# more convinient\n",
        "result =A1+A2\n",
        "\n",
        "print((time.time()-start)*1000)"
      ],
      "execution_count": 7,
      "outputs": [
        {
          "output_type": "stream",
          "text": [
            "221.69137001037598\n",
            "63.76981735229492\n"
          ],
          "name": "stdout"
        }
      ]
    },
    {
      "cell_type": "code",
      "metadata": {
        "id": "f8bJ_KTQ1ayK",
        "colab_type": "code",
        "colab": {
          "base_uri": "https://localhost:8080/",
          "height": 102
        },
        "outputId": "ce1bcab4-e9f3-4be3-ab04-46a7fec0e75e"
      },
      "source": [
        "#finding the number of array dimensions\n",
        "\n",
        "a = np.array([(1,2,3),(2,3,4)])\n",
        "print(a.ndim)\n",
        "\n",
        "a = np.array([2,3,4])\n",
        "print(a.ndim)\n",
        "\n",
        "print(a.itemsize)\n",
        "\n",
        "print(a.dtype)\n",
        "\n",
        "print(a.size)"
      ],
      "execution_count": 8,
      "outputs": [
        {
          "output_type": "stream",
          "text": [
            "2\n",
            "1\n",
            "8\n",
            "int64\n",
            "3\n"
          ],
          "name": "stdout"
        }
      ]
    },
    {
      "cell_type": "code",
      "metadata": {
        "id": "J1VogHCG1ayR",
        "colab_type": "code",
        "colab": {
          "base_uri": "https://localhost:8080/",
          "height": 68
        },
        "outputId": "e35f1eda-67dc-419c-9690-c9c8658f2bc4"
      },
      "source": [
        "#finding the size and shape of an array\n",
        "\n",
        "a = np.array([2,3,4,3,4,5])\n",
        "print(a.size)\n",
        "print(a.shape)\n",
        "\n",
        "\n",
        "a = np.array([(2,3,4,3,4,5),(1,2,3,7,8,9)])\n",
        "print(a.shape)"
      ],
      "execution_count": 9,
      "outputs": [
        {
          "output_type": "stream",
          "text": [
            "6\n",
            "(6,)\n",
            "(2, 6)\n"
          ],
          "name": "stdout"
        }
      ]
    },
    {
      "cell_type": "code",
      "metadata": {
        "id": "v2HHb8IO1ayc",
        "colab_type": "code",
        "colab": {
          "base_uri": "https://localhost:8080/",
          "height": 119
        },
        "outputId": "c81ea822-03ea-46c2-cefd-1c70224e6d59"
      },
      "source": [
        " # reshape the array\n",
        "\n",
        "\n",
        "a = np.array([(1,2,3,4),(3,4,5,6)])\n",
        "\n",
        "print(a)\n",
        "\n",
        "a = a.reshape(4,2)\n",
        "\n",
        "print(a)"
      ],
      "execution_count": 10,
      "outputs": [
        {
          "output_type": "stream",
          "text": [
            "[[1 2 3 4]\n",
            " [3 4 5 6]]\n",
            "[[1 2]\n",
            " [3 4]\n",
            " [3 4]\n",
            " [5 6]]\n"
          ],
          "name": "stdout"
        }
      ]
    },
    {
      "cell_type": "code",
      "metadata": {
        "id": "hY12dTqM2N7E",
        "colab_type": "code",
        "colab": {
          "base_uri": "https://localhost:8080/",
          "height": 34
        },
        "outputId": "e4232933-1a08-428a-9e7e-d238edab386f"
      },
      "source": [
        "#reversing order of an matrix\n",
        "\n",
        "a = np.array([1, 2, 3, 4, 5, 6, 7, 8, 9])\n",
        "print(a[::-1])"
      ],
      "execution_count": 31,
      "outputs": [
        {
          "output_type": "stream",
          "text": [
            "[9 8 7 6 5 4 3 2 1]\n"
          ],
          "name": "stdout"
        }
      ]
    },
    {
      "cell_type": "code",
      "metadata": {
        "id": "GfuXasCD1ayl",
        "colab_type": "code",
        "colab": {
          "base_uri": "https://localhost:8080/",
          "height": 68
        },
        "outputId": "6ff77a65-a829-4c87-be98-670e101de3b0"
      },
      "source": [
        "# slicing of an array\n",
        "\n",
        "a = np.array([(1,2,3,4),(3,4,5,6)])\n",
        "\n",
        "print(a[0,2])\n",
        "print(a[1,2])\n",
        "print(a[0:,3])"
      ],
      "execution_count": 11,
      "outputs": [
        {
          "output_type": "stream",
          "text": [
            "3\n",
            "5\n",
            "[4 6]\n"
          ],
          "name": "stdout"
        }
      ]
    },
    {
      "cell_type": "code",
      "metadata": {
        "id": "uDIrkSj81ay0",
        "colab_type": "code",
        "colab": {
          "base_uri": "https://localhost:8080/",
          "height": 51
        },
        "outputId": "f5750c61-b8c7-4751-c736-9a86ad6fa8ce"
      },
      "source": [
        "# slicing of array of higher array dimension\n",
        "a = np.array([(1,2,3,4),(3,4,5,6),(7,8,9,10)])\n",
        "print(a[0:,3])\n",
        "print(a[0:2,3])"
      ],
      "execution_count": 12,
      "outputs": [
        {
          "output_type": "stream",
          "text": [
            "[ 4  6 10]\n",
            "[4 6]\n"
          ],
          "name": "stdout"
        }
      ]
    },
    {
      "cell_type": "code",
      "metadata": {
        "id": "mCl4tNnC1ay-",
        "colab_type": "code",
        "colab": {
          "base_uri": "https://localhost:8080/",
          "height": 34
        },
        "outputId": "0536fc20-5886-4ebf-b4e5-a9f25c34bacc"
      },
      "source": [
        "# linspacing of an array between 1 and 3 into 5 parts\n",
        "\n",
        "a = np.linspace(1,3,5)\n",
        "print(a)"
      ],
      "execution_count": 13,
      "outputs": [
        {
          "output_type": "stream",
          "text": [
            "[1.  1.5 2.  2.5 3. ]\n"
          ],
          "name": "stdout"
        }
      ]
    },
    {
      "cell_type": "code",
      "metadata": {
        "id": "U8X-8bWK1azE",
        "colab_type": "code",
        "colab": {
          "base_uri": "https://localhost:8080/",
          "height": 51
        },
        "outputId": "d3daa54b-d576-4c42-c544-ad38ce471868"
      },
      "source": [
        "# linspacing of an array between 1 and 3 into 10 parts\n",
        "\n",
        "a = np.linspace(1,3,10)\n",
        "print(a)"
      ],
      "execution_count": 14,
      "outputs": [
        {
          "output_type": "stream",
          "text": [
            "[1.         1.22222222 1.44444444 1.66666667 1.88888889 2.11111111\n",
            " 2.33333333 2.55555556 2.77777778 3.        ]\n"
          ],
          "name": "stdout"
        }
      ]
    },
    {
      "cell_type": "code",
      "metadata": {
        "id": "MmnGJG0D1azP",
        "colab_type": "code",
        "colab": {
          "base_uri": "https://localhost:8080/",
          "height": 68
        },
        "outputId": "67fe1e78-3691-4e38-d066-a4cb08b56686"
      },
      "source": [
        "# maximum value, minimum value, summation of value\n",
        "\n",
        "a = np.array([1,2,3,4,74,9])\n",
        "print(a.max())\n",
        "\n",
        "print(a.min())\n",
        "\n",
        "print(a.sum())"
      ],
      "execution_count": 15,
      "outputs": [
        {
          "output_type": "stream",
          "text": [
            "74\n",
            "1\n",
            "93\n"
          ],
          "name": "stdout"
        }
      ]
    },
    {
      "cell_type": "code",
      "metadata": {
        "id": "7mUksj9_1azU",
        "colab_type": "code",
        "colab": {
          "base_uri": "https://localhost:8080/",
          "height": 51
        },
        "outputId": "5c90ea6a-7d21-4e73-fd25-09899ea1eb9d"
      },
      "source": [
        "# sum of axis\n",
        "\n",
        "a = np.array([(1,2,3,4),(3,4,5,6)])\n",
        "\n",
        "print(a.sum(axis = 0))\n",
        "print(a.sum(axis=1))"
      ],
      "execution_count": 16,
      "outputs": [
        {
          "output_type": "stream",
          "text": [
            "[ 4  6  8 10]\n",
            "[10 18]\n"
          ],
          "name": "stdout"
        }
      ]
    },
    {
      "cell_type": "code",
      "metadata": {
        "id": "EmJhwHUt1azb",
        "colab_type": "code",
        "colab": {
          "base_uri": "https://localhost:8080/",
          "height": 68
        },
        "outputId": "9fba6431-2ef3-48d7-b8e9-8225f31091ae"
      },
      "source": [
        "# square root of each element\n",
        "\n",
        "a = np.array([(1,2,3,4),(3,4,5,6),(7,8,9,10)])\n",
        "\n",
        "print(np.sqrt(a))"
      ],
      "execution_count": 17,
      "outputs": [
        {
          "output_type": "stream",
          "text": [
            "[[1.         1.41421356 1.73205081 2.        ]\n",
            " [1.73205081 2.         2.23606798 2.44948974]\n",
            " [2.64575131 2.82842712 3.         3.16227766]]\n"
          ],
          "name": "stdout"
        }
      ]
    },
    {
      "cell_type": "code",
      "metadata": {
        "id": "0CVtvS8-1azh",
        "colab_type": "code",
        "colab": {
          "base_uri": "https://localhost:8080/",
          "height": 102
        },
        "outputId": "b8a095b0-80c4-4c63-a51a-bf08a68680c8"
      },
      "source": [
        "# standard deviation\n",
        "a = np.array([1, 2, 3, 4, 5, 6, 7, 8, 9])\n",
        "print(np.mean(a))\n",
        "print(np.median(a))\n",
        "print(np.var(a))\n",
        "print(np.std(a))\n",
        "\n",
        "\n",
        "print(np.std(a))"
      ],
      "execution_count": 18,
      "outputs": [
        {
          "output_type": "stream",
          "text": [
            "5.0\n",
            "5.0\n",
            "6.666666666666667\n",
            "2.581988897471611\n",
            "2.581988897471611\n"
          ],
          "name": "stdout"
        }
      ]
    },
    {
      "cell_type": "code",
      "metadata": {
        "id": "0-cufznx1azm",
        "colab_type": "code",
        "colab": {
          "base_uri": "https://localhost:8080/",
          "height": 187
        },
        "outputId": "15174643-a835-44e0-9553-c2573c1eb79f"
      },
      "source": [
        "# mathematical operation\n",
        "\n",
        "import numpy as np\n",
        "\n",
        "a = np.array([(1,2,3,4),(3,4,5,6)])\n",
        "\n",
        "b = np.array([(1,2,3,4),(3,4,5,6)])\n",
        "\n",
        "print(a+b)\n",
        "\n",
        "\n",
        "a = np.array([(1,2,3,4),(3,4,5,6)])\n",
        "\n",
        "b = np.array([(1,2,3,4),(3,4,5,6)])\n",
        "\n",
        "print(a-b)\n",
        "\n",
        "\n",
        "a = np.array([(1,2,3,4),(3,4,5,6)])\n",
        "\n",
        "b = np.array([(1,2,3,4),(3,4,5,6)])\n",
        "\n",
        "print(a*b)\n",
        "\n",
        "\n",
        "a = np.array([(1,2,3,4),(3,4,5,6)])\n",
        "\n",
        "b = np.array([(1,2,3,4),(3,4,5,6)])\n",
        "\n",
        "print(a/b)\n",
        "\n",
        "\n",
        "a = np.array([(1,2,3,4),(3,4,5,6)])\n",
        "\n",
        "b = np.array([(1,2,3,4),(3,4,5,6)])\n",
        "\n",
        "print(a%b)"
      ],
      "execution_count": 19,
      "outputs": [
        {
          "output_type": "stream",
          "text": [
            "[[ 2  4  6  8]\n",
            " [ 6  8 10 12]]\n",
            "[[0 0 0 0]\n",
            " [0 0 0 0]]\n",
            "[[ 1  4  9 16]\n",
            " [ 9 16 25 36]]\n",
            "[[1. 1. 1. 1.]\n",
            " [1. 1. 1. 1.]]\n",
            "[[0 0 0 0]\n",
            " [0 0 0 0]]\n"
          ],
          "name": "stdout"
        }
      ]
    },
    {
      "cell_type": "code",
      "metadata": {
        "id": "KSFe8-sw20xa",
        "colab_type": "code",
        "colab": {
          "base_uri": "https://localhost:8080/",
          "height": 68
        },
        "outputId": "3a13217f-a086-4095-82b2-c69694e59afa"
      },
      "source": [
        "# concatenation of arrays \n",
        "array_1 = np.array([1,2,3])\n",
        "array_2 = np.array([4,5,6])\n",
        "array_3 = np.array([7,8,9])\n",
        "print(np.concatenate((array_1, array_2, array_3)))    \n",
        "\n",
        "# concatenation of arrays by performing specific operation on axes\n",
        "array_4 = np.array([[1,2,3],[0,0,0]])\n",
        "array_5 = np.array([[0,0,0],[7,8,9]])\n",
        "print(np.concatenate((array_4, array_5), axis = 1))   "
      ],
      "execution_count": 33,
      "outputs": [
        {
          "output_type": "stream",
          "text": [
            "[1 2 3 4 5 6 7 8 9]\n",
            "[[1 2 3 0 0 0]\n",
            " [0 0 0 7 8 9]]\n"
          ],
          "name": "stdout"
        }
      ]
    },
    {
      "cell_type": "code",
      "metadata": {
        "id": "09kkukxk1azs",
        "colab_type": "code",
        "colab": {
          "base_uri": "https://localhost:8080/",
          "height": 85
        },
        "outputId": "c6dd88f9-dcbb-4a3a-d3c7-c8ac9213ad63"
      },
      "source": [
        "# concatenation\n",
        "\n",
        "a = np.array([(1,2,3,4),(3,4,5,6)])\n",
        "\n",
        "b = np.array([(1,2,3,4),(3,4,5,6)])\n",
        "\n",
        "print(np.vstack((a,b)))"
      ],
      "execution_count": 34,
      "outputs": [
        {
          "output_type": "stream",
          "text": [
            "[[1 2 3 4]\n",
            " [3 4 5 6]\n",
            " [1 2 3 4]\n",
            " [3 4 5 6]]\n"
          ],
          "name": "stdout"
        }
      ]
    },
    {
      "cell_type": "code",
      "metadata": {
        "id": "ueJh3kA71az4",
        "colab_type": "code",
        "colab": {
          "base_uri": "https://localhost:8080/",
          "height": 51
        },
        "outputId": "87ee978c-3068-436b-ed6b-d537d7887f75"
      },
      "source": [
        "print(np.hstack((a,b)))"
      ],
      "execution_count": 21,
      "outputs": [
        {
          "output_type": "stream",
          "text": [
            "[[1 2 3 4 1 2 3 4]\n",
            " [3 4 5 6 3 4 5 6]]\n"
          ],
          "name": "stdout"
        }
      ]
    },
    {
      "cell_type": "code",
      "metadata": {
        "id": "x0OOX1Ll1a0B",
        "colab_type": "code",
        "colab": {
          "base_uri": "https://localhost:8080/",
          "height": 34
        },
        "outputId": "aa678c67-dae4-4645-df4c-55499b780284"
      },
      "source": [
        "print(a.ravel())"
      ],
      "execution_count": 22,
      "outputs": [
        {
          "output_type": "stream",
          "text": [
            "[1 2 3 4 3 4 5 6]\n"
          ],
          "name": "stdout"
        }
      ]
    },
    {
      "cell_type": "code",
      "metadata": {
        "id": "U-ikBiY23gVh",
        "colab_type": "code",
        "colab": {
          "base_uri": "https://localhost:8080/",
          "height": 85
        },
        "outputId": "ca06b15c-c392-4d0a-9829-3eada7476569"
      },
      "source": [
        "# printing array filled with zeroes and ones\n",
        "\n",
        "print(np.zeros((1,2)))                   \n",
        "\n",
        "print(np.zeros((1,2), dtype = np.int)) \n",
        "\n",
        "print(np.ones((1,2)))                   \n",
        " \n",
        "print(np.ones((1,2), dtype = np.int)) "
      ],
      "execution_count": 35,
      "outputs": [
        {
          "output_type": "stream",
          "text": [
            "[[0. 0.]]\n",
            "[[0 0]]\n",
            "[[1. 1.]]\n",
            "[[1 1]]\n"
          ],
          "name": "stdout"
        }
      ]
    },
    {
      "cell_type": "code",
      "metadata": {
        "id": "iQj9aBQ33zU1",
        "colab_type": "code",
        "colab": {
          "base_uri": "https://localhost:8080/",
          "height": 204
        },
        "outputId": "3af4cf3b-6755-4de9-a6db-d948ef36ab29"
      },
      "source": [
        "#creating and printing identity matrix\n",
        "\n",
        "print(np.identity(3))\n",
        "\n",
        "#In the second example, the eye tool prints an 8 by 7 matrix with the first upper diagonal shifted one over denoted with k = 1\n",
        "\n",
        "print(np.eye(8, 7, k = 1))"
      ],
      "execution_count": 37,
      "outputs": [
        {
          "output_type": "stream",
          "text": [
            "[[1. 0. 0.]\n",
            " [0. 1. 0.]\n",
            " [0. 0. 1.]]\n",
            "[[0. 1. 0. 0. 0. 0. 0.]\n",
            " [0. 0. 1. 0. 0. 0. 0.]\n",
            " [0. 0. 0. 1. 0. 0. 0.]\n",
            " [0. 0. 0. 0. 1. 0. 0.]\n",
            " [0. 0. 0. 0. 0. 1. 0.]\n",
            " [0. 0. 0. 0. 0. 0. 1.]\n",
            " [0. 0. 0. 0. 0. 0. 0.]\n",
            " [0. 0. 0. 0. 0. 0. 0.]]\n"
          ],
          "name": "stdout"
        }
      ]
    },
    {
      "cell_type": "code",
      "metadata": {
        "id": "yTWWTJfB1a0Q",
        "colab_type": "code",
        "colab": {
          "base_uri": "https://localhost:8080/",
          "height": 269
        },
        "outputId": "d779549c-83fe-4ed1-b7de-ef76a8ec3760"
      },
      "source": [
        "# special function\n",
        "\n",
        "import numpy as np\n",
        "import matplotlib.pyplot as plt\n",
        "\n",
        "x = np.arange(0,3*np.pi,0.1)\n",
        "\n",
        "y = np.sin(x)\n",
        "\n",
        "plt.plot(x,y)\n",
        "\n",
        "plt.show()\n"
      ],
      "execution_count": 23,
      "outputs": [
        {
          "output_type": "display_data",
          "data": {
            "image/png": "[encoded data removed]",
            "text/plain": [
              "<Figure size 432x288 with 1 Axes>"
            ]
          },
          "metadata": {
            "tags": []
          }
        }
      ]
    },
    {
      "cell_type": "code",
      "metadata": {
        "id": "qy1TUsdd1a0W",
        "colab_type": "code",
        "colab": {
          "base_uri": "https://localhost:8080/",
          "height": 269
        },
        "outputId": "591aa835-4ecf-495a-d7a9-a28dd3fb5122"
      },
      "source": [
        "import numpy as np\n",
        "import matplotlib.pyplot as plt\n",
        "\n",
        "x = np.arange(0,3*np.pi,0.1)\n",
        "\n",
        "y = np.cos(x)\n",
        "\n",
        "plt.plot(x,y)\n",
        "\n",
        "plt.show()\n"
      ],
      "execution_count": 24,
      "outputs": [
        {
          "output_type": "display_data",
          "data": {
            "image/png": "[encoded data removed]",
            "text/plain": [
              "<Figure size 432x288 with 1 Axes>"
            ]
          },
          "metadata": {
            "tags": []
          }
        }
      ]
    },
    {
      "cell_type": "code",
      "metadata": {
        "id": "yiWNLvKl1a0d",
        "colab_type": "code",
        "colab": {
          "base_uri": "https://localhost:8080/",
          "height": 269
        },
        "outputId": "28d849c2-6c53-4135-f2eb-449a60b9af0e"
      },
      "source": [
        "import numpy as np\n",
        "import matplotlib.pyplot as plt\n",
        "\n",
        "x = np.arange(0,3*np.pi,0.1)\n",
        "\n",
        "y = np.tan(x)\n",
        "\n",
        "plt.plot(x,y)\n",
        "\n",
        "plt.show()\n"
      ],
      "execution_count": 25,
      "outputs": [
        {
          "output_type": "display_data",
          "data": {
            "image/png": "[encoded data removed]",
            "text/plain": [
              "<Figure size 432x288 with 1 Axes>"
            ]
          },
          "metadata": {
            "tags": []
          }
        }
      ]
    },
    {
      "cell_type": "code",
      "metadata": {
        "id": "aByBvpRa1a0m",
        "colab_type": "code",
        "colab": {
          "base_uri": "https://localhost:8080/",
          "height": 68
        },
        "outputId": "c754f944-86ae-431c-9b50-f6517a5ba124"
      },
      "source": [
        "#exponentiation and logarithmic of an array \n",
        "ar = np.array([1,2,3])\n",
        "\n",
        "print(np.exp(ar))\n",
        "print(np.log(ar))\n",
        "print(np.log10(ar))"
      ],
      "execution_count": 29,
      "outputs": [
        {
          "output_type": "stream",
          "text": [
            "[ 2.71828183  7.3890561  20.08553692]\n",
            "[0.         0.69314718 1.09861229]\n",
            "[0.         0.30103    0.47712125]\n"
          ],
          "name": "stdout"
        }
      ]
    },
    {
      "cell_type": "code",
      "metadata": {
        "id": "dBfYIDRD2DRP",
        "colab_type": "code",
        "colab": {}
      },
      "source": [
        ""
      ],
      "execution_count": 0,
      "outputs": []
    }
  ]
}