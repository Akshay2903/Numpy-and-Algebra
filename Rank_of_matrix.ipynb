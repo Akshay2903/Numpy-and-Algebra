{
  "nbformat": 4,
  "nbformat_minor": 0,
  "metadata": {
    "colab": {
      "name": "Rank of matrix.ipynb",
      "version": "0.3.2",
      "provenance": [],
      "include_colab_link": true
    },
    "kernelspec": {
      "name": "python3",
      "display_name": "Python 3"
    }
  },
  "cells": [
    {
      "cell_type": "markdown",
      "metadata": {
        "id": "view-in-github",
        "colab_type": "text"
      },
      "source": [
        "<a href=\"https://colab.research.google.com/github/Akshay2903/Numpy-and-Linear-Algebra/blob/master/Rank_of_matrix.ipynb\" target=\"_parent\"><img src=\"https://colab.research.google.com/assets/colab-badge.svg\" alt=\"Open In Colab\"/></a>"
      ]
    },
    {
      "cell_type": "markdown",
      "metadata": {
        "id": "whsWGXq8V5XC",
        "colab_type": "text"
      },
      "source": [
        "# Rank of matrix"
      ]
    },
    {
      "cell_type": "code",
      "metadata": {
        "id": "zlHsLt3pVzf-",
        "colab_type": "code",
        "colab": {
          "base_uri": "https://localhost:8080/",
          "height": 51
        },
        "outputId": "2c31439c-1cdb-4ac8-9bbc-2d0a9a3949c7"
      },
      "source": [
        "#lets find the eigenvalue of matrix A\n",
        "import numpy as np\n",
        "A = np.array([[1,2],\n",
        "              [4,3]])\n",
        "l, Q = np.linalg.eig(A)\n",
        "L = np.diag(l)\n",
        "print(L)"
      ],
      "execution_count": 1,
      "outputs": [
        {
          "output_type": "stream",
          "text": [
            "[[-1.  0.]\n",
            " [ 0.  5.]]\n"
          ],
          "name": "stdout"
        }
      ]
    },
    {
      "cell_type": "code",
      "metadata": {
        "id": "2gganD1TWKZ3",
        "colab_type": "code",
        "colab": {
          "base_uri": "https://localhost:8080/",
          "height": 68
        },
        "outputId": "6936ecdd-7de6-49c3-9825-30df16568efa"
      },
      "source": [
        "#lets examine another matrix of 3*3\n",
        "B = np.array([[3,-3,6],\n",
        "              [2,-2,4],\n",
        "              [1,-1,2]])\n",
        "lb, Qb = np.linalg.eig(B)\n",
        "Lb = np.diag(lb)\n",
        "print(Lb)"
      ],
      "execution_count": 2,
      "outputs": [
        {
          "output_type": "stream",
          "text": [
            "[[3.00000000e+00 0.00000000e+00 0.00000000e+00]\n",
            " [0.00000000e+00 5.23364153e-16 0.00000000e+00]\n",
            " [0.00000000e+00 0.00000000e+00 0.00000000e+00]]\n"
          ],
          "name": "stdout"
        }
      ]
    },
    {
      "cell_type": "markdown",
      "metadata": {
        "id": "IEPlH6kzZT9d",
        "colab_type": "text"
      },
      "source": [
        "## Inverse of a Square Full Rank Matrix"
      ]
    },
    {
      "cell_type": "code",
      "metadata": {
        "id": "l0v7_IJmWwWP",
        "colab_type": "code",
        "colab": {
          "base_uri": "https://localhost:8080/",
          "height": 119
        },
        "outputId": "f348a099-f413-4a69-af6c-84bb953d930f"
      },
      "source": [
        "import numpy as np\n",
        "A = np.array([[1,2],\n",
        "              [4,3]])\n",
        "\n",
        "l, Q = np.linalg.eig(A)\n",
        "L = np.diag(l)\n",
        "print(Q)\n",
        "Linv = np.linalg.inv(L)\n",
        "Qinv = np.linalg.inv(Q)\n",
        "print(Linv)\n",
        "print(Qinv)"
      ],
      "execution_count": 3,
      "outputs": [
        {
          "output_type": "stream",
          "text": [
            "[[-0.70710678 -0.4472136 ]\n",
            " [ 0.70710678 -0.89442719]]\n",
            "[[-1.  -0. ]\n",
            " [ 0.   0.2]]\n",
            "[[-0.94280904  0.47140452]\n",
            " [-0.74535599 -0.74535599]]\n"
          ],
          "name": "stdout"
        }
      ]
    },
    {
      "cell_type": "code",
      "metadata": {
        "id": "QstXLh33ZaOf",
        "colab_type": "code",
        "colab": {
          "base_uri": "https://localhost:8080/",
          "height": 51
        },
        "outputId": "f3da105f-3887-44c6-a598-a627bc63ca15"
      },
      "source": [
        "Ainv = (Q@(Linv@(Qinv)))\n",
        "print(Ainv)"
      ],
      "execution_count": 4,
      "outputs": [
        {
          "output_type": "stream",
          "text": [
            "[[-0.6  0.4]\n",
            " [ 0.8 -0.2]]\n"
          ],
          "name": "stdout"
        }
      ]
    },
    {
      "cell_type": "code",
      "metadata": {
        "id": "dLDSZFRoZekk",
        "colab_type": "code",
        "colab": {
          "base_uri": "https://localhost:8080/",
          "height": 51
        },
        "outputId": "ebf72492-5917-4075-96db-857c1583753a"
      },
      "source": [
        "print(np.linalg.inv(A))"
      ],
      "execution_count": 5,
      "outputs": [
        {
          "output_type": "stream",
          "text": [
            "[[-0.6  0.4]\n",
            " [ 0.8 -0.2]]\n"
          ],
          "name": "stdout"
        }
      ]
    },
    {
      "cell_type": "code",
      "metadata": {
        "id": "MfYTIQcJZhP0",
        "colab_type": "code",
        "colab": {}
      },
      "source": [
        ""
      ],
      "execution_count": 0,
      "outputs": []
    }
  ]
}