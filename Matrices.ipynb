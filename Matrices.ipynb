{
  "nbformat": 4,
  "nbformat_minor": 0,
  "metadata": {
    "colab": {
      "name": "Matrices",
      "version": "0.3.2",
      "provenance": [],
      "include_colab_link": true
    },
    "kernelspec": {
      "name": "python3",
      "display_name": "Python 3"
    }
  },
  "cells": [
    {
      "cell_type": "markdown",
      "metadata": {
        "id": "view-in-github",
        "colab_type": "text"
      },
      "source": [
        "<a href=\"https://colab.research.google.com/github/Akshay2903/Numpy-and-Linear-Algebra/blob/master/Matrices.ipynb\" target=\"_parent\"><img src=\"https://colab.research.google.com/assets/colab-badge.svg\" alt=\"Open In Colab\"/></a>"
      ]
    },
    {
      "cell_type": "markdown",
      "metadata": {
        "id": "onKTBUTT4ZnM",
        "colab_type": "text"
      },
      "source": [
        "# **Matrices**"
      ]
    },
    {
      "cell_type": "code",
      "metadata": {
        "id": "TEgki2vW8gOJ",
        "colab_type": "code",
        "colab": {
          "base_uri": "https://localhost:8080/",
          "height": 51
        },
        "outputId": "19af2388-3c13-414b-a89b-d55e03c24e67"
      },
      "source": [
        "import numpy as np\n",
        "\n",
        "A = np.array([[1,2,3],\n",
        "              [4,5,6]])\n",
        "print (A)"
      ],
      "execution_count": 6,
      "outputs": [
        {
          "output_type": "stream",
          "text": [
            "[[1 2 3]\n",
            " [4 5 6]]\n"
          ],
          "name": "stdout"
        }
      ]
    },
    {
      "cell_type": "markdown",
      "metadata": {
        "id": "FJF7LYeH4kZs",
        "colab_type": "text"
      },
      "source": [
        "## Matrix transposition"
      ]
    },
    {
      "cell_type": "code",
      "metadata": {
        "id": "4VZpH4bW3v3J",
        "colab_type": "code",
        "colab": {
          "base_uri": "https://localhost:8080/",
          "height": 68
        },
        "outputId": "82c0747d-78ca-4498-f9ca-5c9d555a8ccf"
      },
      "source": [
        "import numpy as np\n",
        "\n",
        "A = np.array([[1,2,3],\n",
        "              [4,5,6]])\n",
        "print(A.T)"
      ],
      "execution_count": 1,
      "outputs": [
        {
          "output_type": "stream",
          "text": [
            "[[1 4]\n",
            " [2 5]\n",
            " [3 6]]\n"
          ],
          "name": "stdout"
        }
      ]
    },
    {
      "cell_type": "markdown",
      "metadata": {
        "id": "g0GSQtNfBSaU",
        "colab_type": "text"
      },
      "source": [
        "## Matrix Multiplication"
      ]
    },
    {
      "cell_type": "code",
      "metadata": {
        "id": "KWyAL8te42-s",
        "colab_type": "code",
        "colab": {
          "base_uri": "https://localhost:8080/",
          "height": 85
        },
        "outputId": "9d338700-856e-400c-dd3b-a3e5b3e20dbd"
      },
      "source": [
        "import numpy as np\n",
        "\n",
        "A = np.array([[1,2,3],\n",
        "              [4,5,6]])\n",
        "B = np.array([[9,8],\n",
        "              [7,6],\n",
        "              [5,4]])\n",
        "print(np.dot(A,B))\n",
        "print(A @ B)"
      ],
      "execution_count": 9,
      "outputs": [
        {
          "output_type": "stream",
          "text": [
            "[[ 38  32]\n",
            " [101  86]]\n",
            "[[ 38  32]\n",
            " [101  86]]\n"
          ],
          "name": "stdout"
        }
      ]
    },
    {
      "cell_type": "code",
      "metadata": {
        "id": "xmcVhudc6WKG",
        "colab_type": "code",
        "colab": {
          "base_uri": "https://localhost:8080/",
          "height": 51
        },
        "outputId": "0c6e8650-e818-40a1-9168-4b6c96c19451"
      },
      "source": [
        "import numpy as np\n",
        "\n",
        "A = np.matrix([[1,2,3]\n",
        "               ,[4,5,6]])\n",
        "B = np.matrix([[9,8],\n",
        "               [7,6],\n",
        "               [5,4]])\n",
        "print(A * B)"
      ],
      "execution_count": 10,
      "outputs": [
        {
          "output_type": "stream",
          "text": [
            "[[ 38  32]\n",
            " [101  86]]\n"
          ],
          "name": "stdout"
        }
      ]
    },
    {
      "cell_type": "code",
      "metadata": {
        "id": "XbYXRWiK6grT",
        "colab_type": "code",
        "colab": {
          "base_uri": "https://localhost:8080/",
          "height": 85
        },
        "outputId": "b67360c8-0eab-4b57-b9b9-e8f95ca48d28"
      },
      "source": [
        "#check whether the commutative law is applicable to the matrix multiplications\n",
        "\n",
        "import numpy as np\n",
        "\n",
        "A = np.array([[2,4],\n",
        "              [6,8]])\n",
        "B = np.array([[1,3],\n",
        "              [5,7]])\n",
        "print(A @ B)\n",
        "print(B @ A)"
      ],
      "execution_count": 11,
      "outputs": [
        {
          "output_type": "stream",
          "text": [
            "[[22 34]\n",
            " [46 74]]\n",
            "[[20 28]\n",
            " [52 76]]\n"
          ],
          "name": "stdout"
        }
      ]
    },
    {
      "cell_type": "markdown",
      "metadata": {
        "id": "-Q2nguowCNSW",
        "colab_type": "text"
      },
      "source": [
        "## Inverse of Matrix"
      ]
    },
    {
      "cell_type": "code",
      "metadata": {
        "id": "-9uEo3xqAost",
        "colab_type": "code",
        "colab": {
          "base_uri": "https://localhost:8080/",
          "height": 51
        },
        "outputId": "40053ccc-7359-4b79-e94f-66ed81211e84"
      },
      "source": [
        "import numpy as np\n",
        "\n",
        "B = np.array([[6,2],\n",
        "              [1,2]])\n",
        "\n",
        "print(np.linalg.inv(B))"
      ],
      "execution_count": 12,
      "outputs": [
        {
          "output_type": "stream",
          "text": [
            "[[ 0.2 -0.2]\n",
            " [-0.1  0.6]]\n"
          ],
          "name": "stdout"
        }
      ]
    },
    {
      "cell_type": "code",
      "metadata": {
        "id": "C86ZhmwSFRqW",
        "colab_type": "code",
        "colab": {
          "base_uri": "https://localhost:8080/",
          "height": 51
        },
        "outputId": "b45fba45-b8ed-4e3c-f9c7-a45b58936b07"
      },
      "source": [
        "import numpy as np\n",
        "B = np.matrix([[6,2],\n",
        "              [1,2]])\n",
        "print(B.I)"
      ],
      "execution_count": 14,
      "outputs": [
        {
          "output_type": "stream",
          "text": [
            "[[ 0.2 -0.2]\n",
            " [-0.1  0.6]]\n"
          ],
          "name": "stdout"
        }
      ]
    },
    {
      "cell_type": "code",
      "metadata": {
        "id": "TkT5C5k3CQsX",
        "colab_type": "code",
        "colab": {
          "base_uri": "https://localhost:8080/",
          "height": 68
        },
        "outputId": "1ad76f29-8587-48dc-88af-de894fe5aad6"
      },
      "source": [
        "import numpy as np\n",
        "\n",
        "B = np.array([[6,2,1],\n",
        "              [1,2,1],\n",
        "              [2,3,4]])\n",
        "\n",
        "print(np.linalg.inv(B))"
      ],
      "execution_count": 15,
      "outputs": [
        {
          "output_type": "stream",
          "text": [
            "[[ 2.00000000e-01 -2.00000000e-01  9.25185854e-18]\n",
            " [-8.00000000e-02  8.80000000e-01 -2.00000000e-01]\n",
            " [-4.00000000e-02 -5.60000000e-01  4.00000000e-01]]\n"
          ],
          "name": "stdout"
        }
      ]
    },
    {
      "cell_type": "code",
      "metadata": {
        "id": "FKcFQY2jCYNN",
        "colab_type": "code",
        "colab": {}
      },
      "source": [
        ""
      ],
      "execution_count": 0,
      "outputs": []
    }
  ]
}